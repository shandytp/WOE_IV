{
 "cells": [
  {
   "cell_type": "markdown",
   "id": "62f78e3e",
   "metadata": {},
   "source": [
    "# Weight of Evidence and Information Value "
   ]
  },
  {
   "cell_type": "code",
   "execution_count": 98,
   "id": "ec92831a",
   "metadata": {},
   "outputs": [],
   "source": [
    "import numpy as np\n",
    "import pandas as pd\n",
    "import matplotlib.pyplot as plt\n",
    "import seaborn as sns"
   ]
  },
  {
   "cell_type": "markdown",
   "id": "f5d6aaa5",
   "metadata": {},
   "source": [
    "### Generate Data "
   ]
  },
  {
   "cell_type": "code",
   "execution_count": 99,
   "id": "a6ba38e6",
   "metadata": {},
   "outputs": [],
   "source": [
    "d = {\n",
    "    \"Age\": np.random.randint(18, 70, 1000),\n",
    "    \"Status\": np.random.choice([\"Good\", \"Bad\"], size=1000, p=[0.7, 0.3])\n",
    "}"
   ]
  },
  {
   "cell_type": "code",
   "execution_count": 100,
   "id": "53573539",
   "metadata": {},
   "outputs": [],
   "source": [
    "data = pd.DataFrame(data=d)"
   ]
  },
  {
   "cell_type": "code",
   "execution_count": 101,
   "id": "e7b93a0d",
   "metadata": {},
   "outputs": [
    {
     "data": {
      "text/html": [
       "<div>\n",
       "<style scoped>\n",
       "    .dataframe tbody tr th:only-of-type {\n",
       "        vertical-align: middle;\n",
       "    }\n",
       "\n",
       "    .dataframe tbody tr th {\n",
       "        vertical-align: top;\n",
       "    }\n",
       "\n",
       "    .dataframe thead th {\n",
       "        text-align: right;\n",
       "    }\n",
       "</style>\n",
       "<table border=\"1\" class=\"dataframe\">\n",
       "  <thead>\n",
       "    <tr style=\"text-align: right;\">\n",
       "      <th></th>\n",
       "      <th>Age</th>\n",
       "      <th>Status</th>\n",
       "    </tr>\n",
       "  </thead>\n",
       "  <tbody>\n",
       "    <tr>\n",
       "      <th>0</th>\n",
       "      <td>52</td>\n",
       "      <td>Good</td>\n",
       "    </tr>\n",
       "    <tr>\n",
       "      <th>1</th>\n",
       "      <td>63</td>\n",
       "      <td>Bad</td>\n",
       "    </tr>\n",
       "    <tr>\n",
       "      <th>2</th>\n",
       "      <td>46</td>\n",
       "      <td>Good</td>\n",
       "    </tr>\n",
       "    <tr>\n",
       "      <th>3</th>\n",
       "      <td>44</td>\n",
       "      <td>Good</td>\n",
       "    </tr>\n",
       "    <tr>\n",
       "      <th>4</th>\n",
       "      <td>69</td>\n",
       "      <td>Bad</td>\n",
       "    </tr>\n",
       "    <tr>\n",
       "      <th>...</th>\n",
       "      <td>...</td>\n",
       "      <td>...</td>\n",
       "    </tr>\n",
       "    <tr>\n",
       "      <th>995</th>\n",
       "      <td>39</td>\n",
       "      <td>Good</td>\n",
       "    </tr>\n",
       "    <tr>\n",
       "      <th>996</th>\n",
       "      <td>39</td>\n",
       "      <td>Bad</td>\n",
       "    </tr>\n",
       "    <tr>\n",
       "      <th>997</th>\n",
       "      <td>45</td>\n",
       "      <td>Good</td>\n",
       "    </tr>\n",
       "    <tr>\n",
       "      <th>998</th>\n",
       "      <td>54</td>\n",
       "      <td>Good</td>\n",
       "    </tr>\n",
       "    <tr>\n",
       "      <th>999</th>\n",
       "      <td>37</td>\n",
       "      <td>Good</td>\n",
       "    </tr>\n",
       "  </tbody>\n",
       "</table>\n",
       "<p>1000 rows × 2 columns</p>\n",
       "</div>"
      ],
      "text/plain": [
       "     Age Status\n",
       "0     52   Good\n",
       "1     63    Bad\n",
       "2     46   Good\n",
       "3     44   Good\n",
       "4     69    Bad\n",
       "..   ...    ...\n",
       "995   39   Good\n",
       "996   39    Bad\n",
       "997   45   Good\n",
       "998   54   Good\n",
       "999   37   Good\n",
       "\n",
       "[1000 rows x 2 columns]"
      ]
     },
     "execution_count": 101,
     "metadata": {},
     "output_type": "execute_result"
    }
   ],
   "source": [
    "data"
   ]
  },
  {
   "cell_type": "code",
   "execution_count": 102,
   "id": "09b1b110",
   "metadata": {},
   "outputs": [
    {
     "data": {
      "text/plain": [
       "Good    688\n",
       "Bad     312\n",
       "Name: Status, dtype: int64"
      ]
     },
     "execution_count": 102,
     "metadata": {},
     "output_type": "execute_result"
    }
   ],
   "source": [
    "data[\"Status\"].value_counts()"
   ]
  },
  {
   "cell_type": "markdown",
   "id": "faa80ea0",
   "metadata": {},
   "source": [
    "### Binning Data into 5 groups/bins "
   ]
  },
  {
   "cell_type": "code",
   "execution_count": 103,
   "id": "7f45faf3",
   "metadata": {},
   "outputs": [],
   "source": [
    "data[\"Age Binning\"] = pd.qcut(data[\"Age\"], q=5)"
   ]
  },
  {
   "cell_type": "code",
   "execution_count": 104,
   "id": "9f9ccdb1",
   "metadata": {},
   "outputs": [
    {
     "data": {
      "text/plain": [
       "(27.8, 38.0]      212\n",
       "(50.0, 60.0]      211\n",
       "(17.999, 27.8]    200\n",
       "(38.0, 50.0]      192\n",
       "(60.0, 69.0]      185\n",
       "Name: Age Binning, dtype: int64"
      ]
     },
     "execution_count": 104,
     "metadata": {},
     "output_type": "execute_result"
    }
   ],
   "source": [
    "data[\"Age Binning\"].value_counts()"
   ]
  },
  {
   "cell_type": "code",
   "execution_count": 105,
   "id": "e468a9ed",
   "metadata": {},
   "outputs": [
    {
     "data": {
      "text/plain": [
       "Age Binning     Status\n",
       "(17.999, 27.8]  Bad        69\n",
       "                Good      131\n",
       "(27.8, 38.0]    Bad        66\n",
       "                Good      146\n",
       "(38.0, 50.0]    Bad        57\n",
       "                Good      135\n",
       "(50.0, 60.0]    Bad        71\n",
       "                Good      140\n",
       "(60.0, 69.0]    Bad        49\n",
       "                Good      136\n",
       "dtype: int64"
      ]
     },
     "execution_count": 105,
     "metadata": {},
     "output_type": "execute_result"
    }
   ],
   "source": [
    "data.groupby([\"Age Binning\", \"Status\"]).size()"
   ]
  },
  {
   "cell_type": "markdown",
   "id": "66782acc",
   "metadata": {},
   "source": [
    "Gimana cara nge convert nya jadi DataFrame? menggunakan crosstab ternyata wkwk"
   ]
  },
  {
   "cell_type": "code",
   "execution_count": 106,
   "id": "d3ef936f",
   "metadata": {},
   "outputs": [],
   "source": [
    "new_data = pd.crosstab(data[\"Age Binning\"], data[\"Status\"])"
   ]
  },
  {
   "cell_type": "code",
   "execution_count": 107,
   "id": "d9febc59",
   "metadata": {},
   "outputs": [
    {
     "data": {
      "text/html": [
       "<div>\n",
       "<style scoped>\n",
       "    .dataframe tbody tr th:only-of-type {\n",
       "        vertical-align: middle;\n",
       "    }\n",
       "\n",
       "    .dataframe tbody tr th {\n",
       "        vertical-align: top;\n",
       "    }\n",
       "\n",
       "    .dataframe thead th {\n",
       "        text-align: right;\n",
       "    }\n",
       "</style>\n",
       "<table border=\"1\" class=\"dataframe\">\n",
       "  <thead>\n",
       "    <tr style=\"text-align: right;\">\n",
       "      <th>Status</th>\n",
       "      <th>Bad</th>\n",
       "      <th>Good</th>\n",
       "    </tr>\n",
       "    <tr>\n",
       "      <th>Age Binning</th>\n",
       "      <th></th>\n",
       "      <th></th>\n",
       "    </tr>\n",
       "  </thead>\n",
       "  <tbody>\n",
       "    <tr>\n",
       "      <th>(17.999, 27.8]</th>\n",
       "      <td>69</td>\n",
       "      <td>131</td>\n",
       "    </tr>\n",
       "    <tr>\n",
       "      <th>(27.8, 38.0]</th>\n",
       "      <td>66</td>\n",
       "      <td>146</td>\n",
       "    </tr>\n",
       "    <tr>\n",
       "      <th>(38.0, 50.0]</th>\n",
       "      <td>57</td>\n",
       "      <td>135</td>\n",
       "    </tr>\n",
       "    <tr>\n",
       "      <th>(50.0, 60.0]</th>\n",
       "      <td>71</td>\n",
       "      <td>140</td>\n",
       "    </tr>\n",
       "    <tr>\n",
       "      <th>(60.0, 69.0]</th>\n",
       "      <td>49</td>\n",
       "      <td>136</td>\n",
       "    </tr>\n",
       "  </tbody>\n",
       "</table>\n",
       "</div>"
      ],
      "text/plain": [
       "Status          Bad  Good\n",
       "Age Binning              \n",
       "(17.999, 27.8]   69   131\n",
       "(27.8, 38.0]     66   146\n",
       "(38.0, 50.0]     57   135\n",
       "(50.0, 60.0]     71   140\n",
       "(60.0, 69.0]     49   136"
      ]
     },
     "execution_count": 107,
     "metadata": {},
     "output_type": "execute_result"
    }
   ],
   "source": [
    "new_data"
   ]
  },
  {
   "cell_type": "markdown",
   "id": "3a5a3e96",
   "metadata": {},
   "source": [
    "Ambil distribusi atau proporsi % data nya"
   ]
  },
  {
   "cell_type": "code",
   "execution_count": 108,
   "id": "f99d7324",
   "metadata": {},
   "outputs": [],
   "source": [
    "new_data[\"Good Distribution\"] = round(new_data[\"Good\"]/np.sum(new_data[\"Good\"]), 2)"
   ]
  },
  {
   "cell_type": "code",
   "execution_count": 109,
   "id": "44d9d1b5",
   "metadata": {},
   "outputs": [],
   "source": [
    "new_data[\"Bad Distribution\"] = round(new_data[\"Bad\"]/np.sum(new_data[\"Bad\"]), 2)"
   ]
  },
  {
   "cell_type": "code",
   "execution_count": 110,
   "id": "dc559685",
   "metadata": {},
   "outputs": [
    {
     "data": {
      "text/html": [
       "<div>\n",
       "<style scoped>\n",
       "    .dataframe tbody tr th:only-of-type {\n",
       "        vertical-align: middle;\n",
       "    }\n",
       "\n",
       "    .dataframe tbody tr th {\n",
       "        vertical-align: top;\n",
       "    }\n",
       "\n",
       "    .dataframe thead th {\n",
       "        text-align: right;\n",
       "    }\n",
       "</style>\n",
       "<table border=\"1\" class=\"dataframe\">\n",
       "  <thead>\n",
       "    <tr style=\"text-align: right;\">\n",
       "      <th>Status</th>\n",
       "      <th>Bad</th>\n",
       "      <th>Good</th>\n",
       "      <th>Good Distribution</th>\n",
       "      <th>Bad Distribution</th>\n",
       "    </tr>\n",
       "    <tr>\n",
       "      <th>Age Binning</th>\n",
       "      <th></th>\n",
       "      <th></th>\n",
       "      <th></th>\n",
       "      <th></th>\n",
       "    </tr>\n",
       "  </thead>\n",
       "  <tbody>\n",
       "    <tr>\n",
       "      <th>(17.999, 27.8]</th>\n",
       "      <td>69</td>\n",
       "      <td>131</td>\n",
       "      <td>0.19</td>\n",
       "      <td>0.22</td>\n",
       "    </tr>\n",
       "    <tr>\n",
       "      <th>(27.8, 38.0]</th>\n",
       "      <td>66</td>\n",
       "      <td>146</td>\n",
       "      <td>0.21</td>\n",
       "      <td>0.21</td>\n",
       "    </tr>\n",
       "    <tr>\n",
       "      <th>(38.0, 50.0]</th>\n",
       "      <td>57</td>\n",
       "      <td>135</td>\n",
       "      <td>0.20</td>\n",
       "      <td>0.18</td>\n",
       "    </tr>\n",
       "    <tr>\n",
       "      <th>(50.0, 60.0]</th>\n",
       "      <td>71</td>\n",
       "      <td>140</td>\n",
       "      <td>0.20</td>\n",
       "      <td>0.23</td>\n",
       "    </tr>\n",
       "    <tr>\n",
       "      <th>(60.0, 69.0]</th>\n",
       "      <td>49</td>\n",
       "      <td>136</td>\n",
       "      <td>0.20</td>\n",
       "      <td>0.16</td>\n",
       "    </tr>\n",
       "  </tbody>\n",
       "</table>\n",
       "</div>"
      ],
      "text/plain": [
       "Status          Bad  Good  Good Distribution  Bad Distribution\n",
       "Age Binning                                                   \n",
       "(17.999, 27.8]   69   131               0.19              0.22\n",
       "(27.8, 38.0]     66   146               0.21              0.21\n",
       "(38.0, 50.0]     57   135               0.20              0.18\n",
       "(50.0, 60.0]     71   140               0.20              0.23\n",
       "(60.0, 69.0]     49   136               0.20              0.16"
      ]
     },
     "execution_count": 110,
     "metadata": {},
     "output_type": "execute_result"
    }
   ],
   "source": [
    "new_data"
   ]
  },
  {
   "cell_type": "code",
   "execution_count": 81,
   "id": "f03569b3",
   "metadata": {},
   "outputs": [
    {
     "data": {
      "text/plain": [
       "710"
      ]
     },
     "execution_count": 81,
     "metadata": {},
     "output_type": "execute_result"
    }
   ],
   "source": [
    "np.sum(new_data[\"Good\"])"
   ]
  },
  {
   "cell_type": "code",
   "execution_count": 82,
   "id": "0ea5f7ac",
   "metadata": {},
   "outputs": [
    {
     "data": {
      "text/plain": [
       "290"
      ]
     },
     "execution_count": 82,
     "metadata": {},
     "output_type": "execute_result"
    }
   ],
   "source": [
    "np.sum(new_data[\"Bad\"])"
   ]
  },
  {
   "cell_type": "code",
   "execution_count": 115,
   "id": "f495b32b",
   "metadata": {},
   "outputs": [
    {
     "data": {
      "text/plain": [
       "Age Binning\n",
       "(17.999, 27.8]   -0.146603\n",
       "(27.8, 38.0]      0.000000\n",
       "(38.0, 50.0]      0.105361\n",
       "(50.0, 60.0]     -0.139762\n",
       "(60.0, 69.0]      0.223144\n",
       "dtype: float64"
      ]
     },
     "execution_count": 115,
     "metadata": {},
     "output_type": "execute_result"
    }
   ],
   "source": [
    "np.log(new_data[\"Good Distribution\"]) - np.log(new_data[\"Bad Distribution\"])"
   ]
  },
  {
   "cell_type": "markdown",
   "id": "234b258b",
   "metadata": {},
   "source": [
    "### WOE Formula\n",
    "\n",
    "$$WOE=ln(\\text{Distr Good}) - ln(\\text{Distr Bad})$$"
   ]
  },
  {
   "cell_type": "code",
   "execution_count": 116,
   "id": "c8e54899",
   "metadata": {},
   "outputs": [
    {
     "data": {
      "text/plain": [
       "Age Binning\n",
       "(17.999, 27.8]   -0.15\n",
       "(27.8, 38.0]      0.00\n",
       "(38.0, 50.0]      0.11\n",
       "(50.0, 60.0]     -0.14\n",
       "(60.0, 69.0]      0.22\n",
       "dtype: float64"
      ]
     },
     "execution_count": 116,
     "metadata": {},
     "output_type": "execute_result"
    }
   ],
   "source": [
    "round(np.log(new_data[\"Good Distribution\"]) - np.log(new_data[\"Bad Distribution\"]), 2)"
   ]
  },
  {
   "cell_type": "code",
   "execution_count": 117,
   "id": "f2def78d",
   "metadata": {},
   "outputs": [],
   "source": [
    "new_data[\"WOE\"] = round(np.log(new_data[\"Good Distribution\"]) - np.log(new_data[\"Bad Distribution\"]), 2)"
   ]
  },
  {
   "cell_type": "code",
   "execution_count": 118,
   "id": "d044a51f",
   "metadata": {},
   "outputs": [
    {
     "data": {
      "text/html": [
       "<div>\n",
       "<style scoped>\n",
       "    .dataframe tbody tr th:only-of-type {\n",
       "        vertical-align: middle;\n",
       "    }\n",
       "\n",
       "    .dataframe tbody tr th {\n",
       "        vertical-align: top;\n",
       "    }\n",
       "\n",
       "    .dataframe thead th {\n",
       "        text-align: right;\n",
       "    }\n",
       "</style>\n",
       "<table border=\"1\" class=\"dataframe\">\n",
       "  <thead>\n",
       "    <tr style=\"text-align: right;\">\n",
       "      <th>Status</th>\n",
       "      <th>Bad</th>\n",
       "      <th>Good</th>\n",
       "      <th>Good Distribution</th>\n",
       "      <th>Bad Distribution</th>\n",
       "      <th>WOE</th>\n",
       "    </tr>\n",
       "    <tr>\n",
       "      <th>Age Binning</th>\n",
       "      <th></th>\n",
       "      <th></th>\n",
       "      <th></th>\n",
       "      <th></th>\n",
       "      <th></th>\n",
       "    </tr>\n",
       "  </thead>\n",
       "  <tbody>\n",
       "    <tr>\n",
       "      <th>(17.999, 27.8]</th>\n",
       "      <td>69</td>\n",
       "      <td>131</td>\n",
       "      <td>0.19</td>\n",
       "      <td>0.22</td>\n",
       "      <td>-0.15</td>\n",
       "    </tr>\n",
       "    <tr>\n",
       "      <th>(27.8, 38.0]</th>\n",
       "      <td>66</td>\n",
       "      <td>146</td>\n",
       "      <td>0.21</td>\n",
       "      <td>0.21</td>\n",
       "      <td>0.00</td>\n",
       "    </tr>\n",
       "    <tr>\n",
       "      <th>(38.0, 50.0]</th>\n",
       "      <td>57</td>\n",
       "      <td>135</td>\n",
       "      <td>0.20</td>\n",
       "      <td>0.18</td>\n",
       "      <td>0.11</td>\n",
       "    </tr>\n",
       "    <tr>\n",
       "      <th>(50.0, 60.0]</th>\n",
       "      <td>71</td>\n",
       "      <td>140</td>\n",
       "      <td>0.20</td>\n",
       "      <td>0.23</td>\n",
       "      <td>-0.14</td>\n",
       "    </tr>\n",
       "    <tr>\n",
       "      <th>(60.0, 69.0]</th>\n",
       "      <td>49</td>\n",
       "      <td>136</td>\n",
       "      <td>0.20</td>\n",
       "      <td>0.16</td>\n",
       "      <td>0.22</td>\n",
       "    </tr>\n",
       "  </tbody>\n",
       "</table>\n",
       "</div>"
      ],
      "text/plain": [
       "Status          Bad  Good  Good Distribution  Bad Distribution   WOE\n",
       "Age Binning                                                         \n",
       "(17.999, 27.8]   69   131               0.19              0.22 -0.15\n",
       "(27.8, 38.0]     66   146               0.21              0.21  0.00\n",
       "(38.0, 50.0]     57   135               0.20              0.18  0.11\n",
       "(50.0, 60.0]     71   140               0.20              0.23 -0.14\n",
       "(60.0, 69.0]     49   136               0.20              0.16  0.22"
      ]
     },
     "execution_count": 118,
     "metadata": {},
     "output_type": "execute_result"
    }
   ],
   "source": [
    "new_data"
   ]
  },
  {
   "cell_type": "markdown",
   "id": "611c7b7c",
   "metadata": {},
   "source": [
    "#### IV Formula \n",
    "$$IV=WOE_i*(\\text{Distr Good} - \\text{Distr Bad})$$"
   ]
  },
  {
   "cell_type": "code",
   "execution_count": 124,
   "id": "5368b888",
   "metadata": {},
   "outputs": [],
   "source": [
    "new_data[\"IV\"] = new_data[\"WOE\"] * (new_data[\"Good Distribution\"] - new_data[\"Bad Distribution\"])"
   ]
  },
  {
   "cell_type": "code",
   "execution_count": 125,
   "id": "740f5338",
   "metadata": {},
   "outputs": [
    {
     "data": {
      "text/plain": [
       "Age Binning\n",
       "(17.999, 27.8]    0.0045\n",
       "(27.8, 38.0]      0.0000\n",
       "(38.0, 50.0]      0.0022\n",
       "(50.0, 60.0]      0.0042\n",
       "(60.0, 69.0]      0.0088\n",
       "Name: IV, dtype: float64"
      ]
     },
     "execution_count": 125,
     "metadata": {},
     "output_type": "execute_result"
    }
   ],
   "source": [
    "new_data[\"IV\"]"
   ]
  }
 ],
 "metadata": {
  "kernelspec": {
   "display_name": "Python 3 (ipykernel)",
   "language": "python",
   "name": "python3"
  },
  "language_info": {
   "codemirror_mode": {
    "name": "ipython",
    "version": 3
   },
   "file_extension": ".py",
   "mimetype": "text/x-python",
   "name": "python",
   "nbconvert_exporter": "python",
   "pygments_lexer": "ipython3",
   "version": "3.10.8"
  }
 },
 "nbformat": 4,
 "nbformat_minor": 5
}
